{
 "cells": [
  {
   "cell_type": "code",
   "execution_count": 1,
   "metadata": {},
   "outputs": [],
   "source": [
    "import numpy as np\n",
    "import os\n",
    "import glob\n",
    "import numpy as np\n",
    "import json\n",
    "import matplotlib.pyplot as plt\n",
    "from IPython.core.display import Image, display\n",
    "from PIL import Image\n",
    "from IPython.display import HTML"
   ]
  },
  {
   "cell_type": "markdown",
   "metadata": {},
   "source": [
    "1. Get text \n",
    "2. Show image\n",
    "3. Link together\n"
   ]
  },
  {
   "cell_type": "code",
   "execution_count": 2,
   "metadata": {},
   "outputs": [],
   "source": [
    "INPUT = '<image folder>'\n",
    "OUTPUT = '<save folder' # not use\n",
    "input_path = os.path.join(os.getcwd(), INPUT)\n",
    "output_path = os.path.join(os.getcwd(), OUTPUT)\n",
    "\n",
    "if not os.path.exists(output_path):\n",
    "    os.makedirs(output_path)\n",
    "    \n",
    "list_folder = os.listdir(input_path)\n",
    "for folder in list_folder:\n",
    "    path = os.path.join(output_path, folder)\n",
    "    if not os.path.exists(path):\n",
    "        os.makedirs(path)"
   ]
  },
  {
   "cell_type": "code",
   "execution_count": 3,
   "metadata": {},
   "outputs": [],
   "source": [
    "def file_path_generator(folder_name):\n",
    "    list_file = os.listdir(os.path.join(input_path, folder_name))\n",
    "    index = 0\n",
    "    while index < len(list_file):\n",
    "        yield './' + INPUT + '/' + folder_name + '/' + list_file[index] \n",
    "        index += 1\n",
    "def get_all_images_in_folder(folder_name):\n",
    "    list_file = os.listdir(os.path.join(input_path, folder_name))\n",
    "    return list_file\n",
    "\n",
    "def folder_name_generator():\n",
    "    list_folder = os.listdir(input_path)\n",
    "    index = 0\n",
    "    while index < len(list_folder):\n",
    "        yield list_folder[index] \n",
    "        index += 1"
   ]
  },
  {
   "cell_type": "code",
   "execution_count": 4,
   "metadata": {},
   "outputs": [],
   "source": [
    "def get_html():\n",
    "    html=\"\"\"\n",
    "    <div name=\"containbox\">\n",
    "        <br><img id=\"myimage\" src=\"./local/origin_image/20181119/20181119_(1).jpg\"></img></br>\n",
    "        画像内のテキストを入力してください (Enterを押すと次の画像が表示されます）<br>\n",
    "    テキスト: \n",
    "        <div id=\"image_path\" value=\"text\"></div><br>\n",
    "        <input type=text id=\"capture\" onkeydown=\"getVal(this)\"></input><br>\n",
    "    </div>\n",
    "\n",
    "    <script>\n",
    "    load_next_image();\n",
    "\n",
    "    function getVal(ele){\n",
    "        if(event.key === 'Enter') {\n",
    "            console.log(ele.value)\n",
    "            set_label(ele.value)\n",
    "            ele.value = \"\"\n",
    "        }\n",
    "    }\n",
    "\n",
    "    function set_label(label){\n",
    "        var kernel = IPython.notebook.kernel;\n",
    "        kernel.execute(\"labels.append('\" + label + \"')\");\n",
    "        load_next_image();\n",
    "    }\n",
    "\n",
    "    function load_next_image(){\n",
    "       var command = \"next(image_file)\";\n",
    "       var kernel = IPython.notebook.kernel;\n",
    "       var callbacks = { 'iopub' : {'output' : handle_output}};\n",
    "       kernel.execute(command, callbacks, {silent:false});\n",
    "    }\n",
    "\n",
    "    function handle_output(out){\n",
    "    try{\n",
    "       var res = out.content.data[\"text/plain\"];\n",
    "        if (res.charAt(0) === \"'\" && res.charAt(res.length -1) === \"'\")\n",
    "        {\n",
    "            res = res.substr(1,res.length -2);\n",
    "        }\n",
    "        var currentSrc = $(\"img#myimage\").attr('src')\n",
    "       $(\"div#image_path\").html(res);\n",
    "       $(\"img#myimage\").attr('src',res);\n",
    "    } catch (e) {\n",
    "        $(\"div#image_path\").html('***これ以上画像が存在しません。***');\n",
    "       $(\"img#myimage\").attr('src','');\n",
    "    } \n",
    "    }\n",
    "    </script>\n",
    "    \"\"\"\n",
    "    return html"
   ]
  },
  {
   "cell_type": "code",
   "execution_count": 5,
   "metadata": {},
   "outputs": [],
   "source": [
    "folderGenerator = folder_name_generator()"
   ]
  },
  {
   "cell_type": "code",
   "execution_count": 8,
   "metadata": {},
   "outputs": [
    {
     "data": {
      "text/html": [
       "\n",
       "    <div name=\"containbox\">\n",
       "        <br><img id=\"myimage\" src=\"./local/origin_image/20181119/20181119_(1).jpg\"></img></br>\n",
       "        画像内のテキストを入力してください (Enterを押すと次の画像が表示されます）<br>\n",
       "    テキスト: \n",
       "        <div id=\"image_path\" value=\"text\"></div><br>\n",
       "        <input type=text id=\"capture\" onkeydown=\"getVal(this)\"></input><br>\n",
       "    </div>\n",
       "\n",
       "    <script>\n",
       "    load_next_image();\n",
       "\n",
       "    function getVal(ele){\n",
       "        if(event.key === 'Enter') {\n",
       "            console.log(ele.value)\n",
       "            set_label(ele.value)\n",
       "            ele.value = \"\"\n",
       "        }\n",
       "    }\n",
       "\n",
       "    function set_label(label){\n",
       "        var kernel = IPython.notebook.kernel;\n",
       "        kernel.execute(\"labels.append('\" + label + \"')\");\n",
       "        load_next_image();\n",
       "    }\n",
       "\n",
       "    function load_next_image(){\n",
       "       var command = \"next(image_file)\";\n",
       "       var kernel = IPython.notebook.kernel;\n",
       "       var callbacks = { 'iopub' : {'output' : handle_output}};\n",
       "       kernel.execute(command, callbacks, {silent:false});\n",
       "    }\n",
       "\n",
       "    function handle_output(out){\n",
       "    try{\n",
       "       var res = out.content.data[\"text/plain\"];\n",
       "        if (res.charAt(0) === \"'\" && res.charAt(res.length -1) === \"'\")\n",
       "        {\n",
       "            res = res.substr(1,res.length -2);\n",
       "        }\n",
       "        var currentSrc = $(\"img#myimage\").attr('src')\n",
       "       $(\"div#image_path\").html(res);\n",
       "       $(\"img#myimage\").attr('src',res);\n",
       "    } catch (e) {\n",
       "        $(\"div#image_path\").html('***これ以上画像が存在しません。***');\n",
       "       $(\"img#myimage\").attr('src','');\n",
       "    } \n",
       "    }\n",
       "    </script>\n",
       "    "
      ],
      "text/plain": [
       "<IPython.core.display.HTML object>"
      ]
     },
     "metadata": {},
     "output_type": "display_data"
    }
   ],
   "source": [
    "folder = next(folderGenerator)\n",
    "image_file = file_path_generator(folder)\n",
    "all_images_file_name = get_all_images_in_folder(folder)\n",
    "labels=[]\n",
    "display(HTML(get_html()))"
   ]
  },
  {
   "cell_type": "code",
   "execution_count": 9,
   "metadata": {},
   "outputs": [
    {
     "name": "stdout",
     "output_type": "stream",
     "text": [
      "number of images  3\n",
      "number of labels  3\n"
     ]
    }
   ],
   "source": [
    "dictionary = {}\n",
    "print('number of images ', len(all_images_file_name))\n",
    "print('number of labels ', len(labels))\n",
    "for i, name in enumerate(all_images_file_name):\n",
    "    dictionary[name] = labels[i]\n",
    "with open(folder + '.json', 'w') as f:   #with open(inputfolder + '/' + folder + '/' + 'labels.json', 'w') as f:\n",
    "    json.dump(dictionary, f)"
   ]
  },
  {
   "cell_type": "code",
   "execution_count": null,
   "metadata": {},
   "outputs": [],
   "source": []
  }
 ],
 "metadata": {
  "kernelspec": {
   "display_name": "Python 3",
   "language": "python",
   "name": "python3"
  },
  "language_info": {
   "codemirror_mode": {
    "name": "ipython",
    "version": 3
   },
   "file_extension": ".py",
   "mimetype": "text/x-python",
   "name": "python",
   "nbconvert_exporter": "python",
   "pygments_lexer": "ipython3",
   "version": "3.6.7"
  }
 },
 "nbformat": 4,
 "nbformat_minor": 2
}
