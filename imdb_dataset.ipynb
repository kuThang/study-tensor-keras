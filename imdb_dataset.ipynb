{
 "cells": [
  {
   "cell_type": "code",
   "execution_count": 77,
   "metadata": {},
   "outputs": [
    {
     "name": "stdout",
     "output_type": "stream",
     "text": [
      "1.11.0\n"
     ]
    }
   ],
   "source": [
    "from __future__ import absolute_import, division, print_function\n",
    "import tensorflow as tf\n",
    "from tensorflow import keras\n",
    "import numpy as np\n",
    "print(tf.__version__)"
   ]
  },
  {
   "cell_type": "code",
   "execution_count": 78,
   "metadata": {},
   "outputs": [
    {
     "name": "stdout",
     "output_type": "stream",
     "text": [
      "(25000,)\n",
      "(25000,)\n"
     ]
    }
   ],
   "source": [
    "imdb = keras.datasets.imdb\n",
    "(train_data, train_labels), (test_data, test_labels) = imdb.load_data()\n",
    "print(train_data.shape)\n",
    "print(train_labels.shape)"
   ]
  },
  {
   "cell_type": "code",
   "execution_count": 79,
   "metadata": {},
   "outputs": [
    {
     "data": {
      "text/plain": [
       "(218, 189)"
      ]
     },
     "execution_count": 79,
     "metadata": {},
     "output_type": "execute_result"
    }
   ],
   "source": [
    "len(train_data[0]), len(train_data[1])"
   ]
  },
  {
   "cell_type": "markdown",
   "metadata": {},
   "source": [
    "## IMDB data\n",
    "* train and test data is index of word\n",
    "* word dictionary is stored in word_index\n",
    "* word dictionary is reversed  ( \"word\": windex )\n",
    "* since data is index of word, encode data ( use dictionary ) is not necessary\n",
    "\n",
    "## NOTE \n",
    "This notebook also compare Embeddings layer with trainable option"
   ]
  },
  {
   "cell_type": "code",
   "execution_count": 80,
   "metadata": {},
   "outputs": [
    {
     "name": "stdout",
     "output_type": "stream",
     "text": [
      "vocaburary size is  88588\n"
     ]
    }
   ],
   "source": [
    "word_index = imdb.get_word_index()\n",
    "word_index = {k: (v+3) for k, v in word_index.items()}\n",
    "word_index[\"<PAD>\"] = 0\n",
    "word_index[\"<START>\"] = 1\n",
    "word_index[\"<UNK>\"] = 2 #unknow\n",
    "word_index[\"<UNUSED>\"] = 3\n",
    "\n",
    "reverse_word_index = dict([(value, key) for (key, value) in word_index.items()])\n",
    "vocaburary_size = len(reverse_word_index)\n",
    "print(\"vocaburary size is \", vocaburary_size)"
   ]
  },
  {
   "cell_type": "code",
   "execution_count": 81,
   "metadata": {},
   "outputs": [
    {
     "name": "stdout",
     "output_type": "stream",
     "text": [
      "<START> this film was just brilliant casting location scenery story direction everyone's really suited the part they played and you could just imagine being there robert redford's is an amazing actor and now the same being director norman's father came from the same scottish island as myself so i loved the fact there was a real connection with this film the witty remarks throughout the film were great it was just brilliant so much that i bought the film as soon as it was released for retail and would recommend it to everyone to watch and the fly fishing was amazing really cried at the end it was so sad and you know what they say if you cry at a film it must have been good and this definitely was also congratulations to the two little boy's that played the part's of norman and paul they were just brilliant children are often left out of the praising list i think because the stars that play them all grown up are such a big profile for the whole film but these children are amazing and should be praised for what they have done don't you think the whole story was so lovely because it was true and was someone's life after all that was shared with us all\n"
     ]
    }
   ],
   "source": [
    "def decode_review(text):\n",
    "    return ' '.join([reverse_word_index[i] for i in text])\n",
    "#     return ' '.join([reverse_word_index.get(i, '?') for i in text])\n",
    "print(decode_review(train_data[0]))"
   ]
  },
  {
   "cell_type": "markdown",
   "metadata": {},
   "source": [
    "#### Add mote pad to data "
   ]
  },
  {
   "cell_type": "code",
   "execution_count": 82,
   "metadata": {},
   "outputs": [
    {
     "name": "stdout",
     "output_type": "stream",
     "text": [
      "256 [    1    14    22    16    43   530   973  1622  1385    65   458  4468\n",
      "    66  3941     4   173    36   256     5    25   100    43   838   112\n",
      "    50   670 22665     9    35   480   284     5   150     4   172   112\n",
      "   167 21631   336   385    39     4   172  4536  1111    17   546    38\n",
      "    13   447     4   192    50    16     6   147  2025    19    14    22\n",
      "     4  1920  4613   469     4    22    71    87    12    16    43   530\n",
      "    38    76    15    13  1247     4    22    17   515    17    12    16\n",
      "   626    18 19193     5    62   386    12     8   316     8   106     5\n",
      "     4  2223  5244    16   480    66  3785    33     4   130    12    16\n",
      "    38   619     5    25   124    51    36   135    48    25  1415    33\n",
      "     6    22    12   215    28    77    52     5    14   407    16    82\n",
      " 10311     8     4   107   117  5952    15   256     4 31050     7  3766\n",
      "     5   723    36    71    43   530   476    26   400   317    46     7\n",
      "     4 12118  1029    13   104    88     4   381    15   297    98    32\n",
      "  2071    56    26   141     6   194  7486    18     4   226    22    21\n",
      "   134   476    26   480     5   144    30  5535    18    51    36    28\n",
      "   224    92    25   104     4   226    65    16    38  1334    88    12\n",
      "    16   283     5    16  4472   113   103    32    15    16  5345    19\n",
      "   178    32     0     0     0     0     0     0     0     0     0     0\n",
      "     0     0     0     0     0     0     0     0     0     0     0     0\n",
      "     0     0     0     0     0     0     0     0     0     0     0     0\n",
      "     0     0     0     0]\n"
     ]
    }
   ],
   "source": [
    "train_data = keras.preprocessing.sequence.pad_sequences(train_data, \n",
    "                                                       value = word_index[\"<PAD>\"],\n",
    "                                                       padding='post',\n",
    "                                                       maxlen=256)\n",
    "test_data = keras.preprocessing.sequence.pad_sequences(test_data, \n",
    "                                                       value = word_index[\"<PAD>\"],\n",
    "                                                       padding='post',\n",
    "                                                       maxlen=256)\n",
    "print(len(train_data[0]), train_data[0])"
   ]
  },
  {
   "cell_type": "code",
   "execution_count": 83,
   "metadata": {},
   "outputs": [
    {
     "name": "stdout",
     "output_type": "stream",
     "text": [
      "[1 0 0 1 0 0 1 0 1 0]\n",
      "(22500, 256)\n",
      "(2500, 256)\n"
     ]
    }
   ],
   "source": [
    "print(train_labels[0:10])\n",
    "from sklearn.model_selection import train_test_split\n",
    "(train_data, val_data, train_labels, val_labels) = train_test_split(train_data, train_labels, test_size=0.1, random_state=99)\n",
    "print(train_data.shape)\n",
    "print(val_data.shape)"
   ]
  },
  {
   "cell_type": "code",
   "execution_count": 103,
   "metadata": {},
   "outputs": [
    {
     "name": "stdout",
     "output_type": "stream",
     "text": [
      "_________________________________________________________________\n",
      "Layer (type)                 Output Shape              Param #   \n",
      "=================================================================\n",
      "embedding_11 (Embedding)     (None, None, 128)         11339264  \n",
      "_________________________________________________________________\n",
      "global_average_pooling1d_10  (None, 128)               0         \n",
      "_________________________________________________________________\n",
      "dense_20 (Dense)             (None, 64)                8256      \n",
      "_________________________________________________________________\n",
      "dense_21 (Dense)             (None, 1)                 65        \n",
      "=================================================================\n",
      "Total params: 11,347,585\n",
      "Trainable params: 11,347,585\n",
      "Non-trainable params: 0\n",
      "_________________________________________________________________\n"
     ]
    }
   ],
   "source": [
    "model = keras.Sequential()\n",
    "# model.add(keras.layers.Embedding(vocaburary_size, 16, trainable=False))\n",
    "model.add(keras.layers.Embedding(vocaburary_size, 128))\n",
    "model.add(keras.layers.GlobalAveragePooling1D())\n",
    "model.add(keras.layers.Dense(64, activation=tf.nn.relu))\n",
    "model.add(keras.layers.Dense(1, activation=tf.nn.sigmoid))\n",
    "model.summary()"
   ]
  },
  {
   "cell_type": "markdown",
   "metadata": {},
   "source": [
    "### Use binary_crossentropy for binary classification"
   ]
  },
  {
   "cell_type": "code",
   "execution_count": 104,
   "metadata": {},
   "outputs": [],
   "source": [
    "model.compile(optimizer=\"adam\", loss=\"binary_crossentropy\", metrics=[\"acc\"])"
   ]
  },
  {
   "cell_type": "code",
   "execution_count": 105,
   "metadata": {},
   "outputs": [
    {
     "name": "stdout",
     "output_type": "stream",
     "text": [
      "Train on 22500 samples, validate on 2500 samples\n",
      "Epoch 1/20\n",
      "22500/22500 [==============================] - 12s 536us/step - loss: 0.6815 - acc: 0.6428 - val_loss: 0.6501 - val_acc: 0.7452\n",
      "Epoch 2/20\n",
      "22500/22500 [==============================] - 11s 506us/step - loss: 0.5661 - acc: 0.8007 - val_loss: 0.4681 - val_acc: 0.8352\n",
      "Epoch 3/20\n",
      "22500/22500 [==============================] - 11s 501us/step - loss: 0.3768 - acc: 0.8686 - val_loss: 0.3362 - val_acc: 0.8712\n",
      "Epoch 4/20\n",
      "22500/22500 [==============================] - 11s 501us/step - loss: 0.2615 - acc: 0.9107 - val_loss: 0.2919 - val_acc: 0.8836\n",
      "Epoch 5/20\n",
      "22500/22500 [==============================] - 11s 502us/step - loss: 0.1975 - acc: 0.9334 - val_loss: 0.2758 - val_acc: 0.8800\n",
      "Epoch 6/20\n",
      "22500/22500 [==============================] - 11s 501us/step - loss: 0.1526 - acc: 0.9525 - val_loss: 0.2711 - val_acc: 0.8892\n",
      "Epoch 7/20\n",
      "22500/22500 [==============================] - 11s 502us/step - loss: 0.1195 - acc: 0.9665 - val_loss: 0.2749 - val_acc: 0.8888\n",
      "Epoch 8/20\n",
      "22500/22500 [==============================] - 11s 505us/step - loss: 0.0941 - acc: 0.9755 - val_loss: 0.2813 - val_acc: 0.8900\n",
      "Epoch 9/20\n",
      "22500/22500 [==============================] - 11s 503us/step - loss: 0.0751 - acc: 0.9818 - val_loss: 0.2924 - val_acc: 0.8880\n",
      "Epoch 10/20\n",
      "22500/22500 [==============================] - 11s 503us/step - loss: 0.0605 - acc: 0.9872 - val_loss: 0.3034 - val_acc: 0.8900\n",
      "Epoch 11/20\n",
      "22500/22500 [==============================] - 11s 505us/step - loss: 0.0500 - acc: 0.9902 - val_loss: 0.3189 - val_acc: 0.8856\n",
      "Epoch 12/20\n",
      "22500/22500 [==============================] - 11s 502us/step - loss: 0.0393 - acc: 0.9936 - val_loss: 0.3270 - val_acc: 0.8836\n",
      "Epoch 13/20\n",
      "22500/22500 [==============================] - 11s 501us/step - loss: 0.0323 - acc: 0.9948 - val_loss: 0.3438 - val_acc: 0.8828\n",
      "Epoch 14/20\n",
      "22500/22500 [==============================] - 11s 502us/step - loss: 0.0264 - acc: 0.9963 - val_loss: 0.3526 - val_acc: 0.8848\n",
      "Epoch 15/20\n",
      "22500/22500 [==============================] - 11s 502us/step - loss: 0.0217 - acc: 0.9974 - val_loss: 0.3724 - val_acc: 0.8784\n",
      "Epoch 16/20\n",
      "22500/22500 [==============================] - 11s 502us/step - loss: 0.0182 - acc: 0.9978 - val_loss: 0.3761 - val_acc: 0.8816\n",
      "Epoch 17/20\n",
      "22500/22500 [==============================] - 11s 501us/step - loss: 0.0149 - acc: 0.9985 - val_loss: 0.3870 - val_acc: 0.8824\n",
      "Epoch 18/20\n",
      "22500/22500 [==============================] - 11s 506us/step - loss: 0.0127 - acc: 0.9986 - val_loss: 0.4000 - val_acc: 0.8816\n",
      "Epoch 19/20\n",
      "22500/22500 [==============================] - 11s 502us/step - loss: 0.0115 - acc: 0.9990 - val_loss: 0.4134 - val_acc: 0.8824\n",
      "Epoch 20/20\n",
      "22500/22500 [==============================] - 11s 501us/step - loss: 0.0095 - acc: 0.9991 - val_loss: 0.4297 - val_acc: 0.8756\n",
      "Wall time: 3min 47s\n"
     ]
    }
   ],
   "source": [
    "%%time\n",
    "fit = model.fit(train_data, train_labels, epochs=20, batch_size=512, validation_data=(val_data, val_labels))"
   ]
  },
  {
   "cell_type": "code",
   "execution_count": 106,
   "metadata": {},
   "outputs": [],
   "source": [
    "import matplotlib.pyplot as plt\n",
    "def plot_history_loss(fit, axL):\n",
    "    # Plot the loss in the history\n",
    "    axL.plot(fit.history['loss'],label=\"loss for training\")\n",
    "    axL.plot(fit.history['val_loss'],label=\"loss for validation\")\n",
    "    axL.set_title('model loss')\n",
    "    axL.set_xlabel('epoch')\n",
    "    axL.set_ylabel('loss')\n",
    "    axL.legend(loc='upper right')\n",
    "\n",
    "# acc\n",
    "def plot_history_acc(fit, axR):\n",
    "    # Plot the loss in the history\n",
    "    axR.plot(fit.history['acc'],label=\"loss for training\")\n",
    "    axR.plot(fit.history['val_acc'],label=\"loss for validation\")\n",
    "    axR.set_title('model accuracy')\n",
    "    axR.set_xlabel('epoch')\n",
    "    axR.set_ylabel('accuracy')\n",
    "    axR.legend(loc='upper right')"
   ]
  },
  {
   "cell_type": "code",
   "execution_count": 107,
   "metadata": {},
   "outputs": [
    {
     "data": {
      "image/png": "[encoded data removed]",
      "text/plain": [
       "<Figure size 720x288 with 2 Axes>"
      ]
     },
     "metadata": {
      "needs_background": "light"
     },
     "output_type": "display_data"
    }
   ],
   "source": [
    "fig, (axL, axR) = plt.subplots(ncols=2, figsize=(10,4))\n",
    "plot_history_loss(fit, axL)\n",
    "plot_history_acc(fit, axR)"
   ]
  },
  {
   "cell_type": "code",
   "execution_count": 108,
   "metadata": {},
   "outputs": [
    {
     "name": "stdout",
     "output_type": "stream",
     "text": [
      "_________________________________________________________________\n",
      "Layer (type)                 Output Shape              Param #   \n",
      "=================================================================\n",
      "embedding_12 (Embedding)     (None, None, 128)         11339264  \n",
      "_________________________________________________________________\n",
      "global_average_pooling1d_11  (None, 128)               0         \n",
      "_________________________________________________________________\n",
      "dense_22 (Dense)             (None, 64)                8256      \n",
      "_________________________________________________________________\n",
      "dense_23 (Dense)             (None, 1)                 65        \n",
      "=================================================================\n",
      "Total params: 11,347,585\n",
      "Trainable params: 8,321\n",
      "Non-trainable params: 11,339,264\n",
      "_________________________________________________________________\n"
     ]
    }
   ],
   "source": [
    "model = keras.Sequential()\n",
    "model.add(keras.layers.Embedding(vocaburary_size, 128, trainable=False))\n",
    "# model.add(keras.layers.Embedding(vocaburary_size, 16))\n",
    "model.add(keras.layers.GlobalAveragePooling1D())\n",
    "model.add(keras.layers.Dense(64, activation=tf.nn.relu))\n",
    "model.add(keras.layers.Dense(1, activation=tf.nn.sigmoid))\n",
    "model.summary()\n",
    "model.compile(optimizer=\"adam\", loss=\"binary_crossentropy\", metrics=[\"acc\"])"
   ]
  },
  {
   "cell_type": "code",
   "execution_count": 109,
   "metadata": {},
   "outputs": [
    {
     "name": "stdout",
     "output_type": "stream",
     "text": [
      "Train on 22500 samples, validate on 2500 samples\n",
      "Epoch 1/20\n",
      "22500/22500 [==============================] - 2s 84us/step - loss: 0.6929 - acc: 0.5066 - val_loss: 0.6925 - val_acc: 0.5500\n",
      "Epoch 2/20\n",
      "22500/22500 [==============================] - 1s 61us/step - loss: 0.6919 - acc: 0.5418 - val_loss: 0.6914 - val_acc: 0.5512\n",
      "Epoch 3/20\n",
      "22500/22500 [==============================] - 1s 60us/step - loss: 0.6907 - acc: 0.5632 - val_loss: 0.6900 - val_acc: 0.5848\n",
      "Epoch 4/20\n",
      "22500/22500 [==============================] - 1s 60us/step - loss: 0.6892 - acc: 0.5801 - val_loss: 0.6881 - val_acc: 0.6164\n",
      "Epoch 5/20\n",
      "22500/22500 [==============================] - 1s 60us/step - loss: 0.6873 - acc: 0.5961 - val_loss: 0.6862 - val_acc: 0.6020\n",
      "Epoch 6/20\n",
      "22500/22500 [==============================] - 1s 61us/step - loss: 0.6850 - acc: 0.6120 - val_loss: 0.6836 - val_acc: 0.6164\n",
      "Epoch 7/20\n",
      "22500/22500 [==============================] - 1s 61us/step - loss: 0.6822 - acc: 0.6074 - val_loss: 0.6803 - val_acc: 0.6020\n",
      "Epoch 8/20\n",
      "22500/22500 [==============================] - 3s 133us/step - loss: 0.6793 - acc: 0.6150 - val_loss: 0.6771 - val_acc: 0.6080\n",
      "Epoch 9/20\n",
      "22500/22500 [==============================] - 1s 61us/step - loss: 0.6761 - acc: 0.6193 - val_loss: 0.6744 - val_acc: 0.6096\n",
      "Epoch 10/20\n",
      "22500/22500 [==============================] - 1s 61us/step - loss: 0.6728 - acc: 0.6204 - val_loss: 0.6705 - val_acc: 0.6248\n",
      "Epoch 11/20\n",
      "22500/22500 [==============================] - 2s 100us/step - loss: 0.6692 - acc: 0.6241 - val_loss: 0.6663 - val_acc: 0.6284\n",
      "Epoch 12/20\n",
      "22500/22500 [==============================] - 2s 94us/step - loss: 0.6662 - acc: 0.6298 - val_loss: 0.6635 - val_acc: 0.6264\n",
      "Epoch 13/20\n",
      "22500/22500 [==============================] - 1s 62us/step - loss: 0.6626 - acc: 0.6340 - val_loss: 0.6617 - val_acc: 0.6140\n",
      "Epoch 14/20\n",
      "22500/22500 [==============================] - 1s 63us/step - loss: 0.6592 - acc: 0.6338 - val_loss: 0.6574 - val_acc: 0.6252\n",
      "Epoch 15/20\n",
      "22500/22500 [==============================] - 3s 133us/step - loss: 0.6560 - acc: 0.6392 - val_loss: 0.6526 - val_acc: 0.6476\n",
      "Epoch 16/20\n",
      "22500/22500 [==============================] - 1s 61us/step - loss: 0.6538 - acc: 0.6330 - val_loss: 0.6500 - val_acc: 0.6456\n",
      "Epoch 17/20\n",
      "22500/22500 [==============================] - 1s 62us/step - loss: 0.6502 - acc: 0.6423 - val_loss: 0.6472 - val_acc: 0.6460\n",
      "Epoch 18/20\n",
      "22500/22500 [==============================] - 1s 61us/step - loss: 0.6480 - acc: 0.6409 - val_loss: 0.6458 - val_acc: 0.6376\n",
      "Epoch 19/20\n",
      "22500/22500 [==============================] - 3s 119us/step - loss: 0.6452 - acc: 0.6446 - val_loss: 0.6419 - val_acc: 0.6476\n",
      "Epoch 20/20\n",
      "22500/22500 [==============================] - 2s 76us/step - loss: 0.6430 - acc: 0.6462 - val_loss: 0.6407 - val_acc: 0.6444\n",
      "Wall time: 34.8 s\n"
     ]
    }
   ],
   "source": [
    "%%time\n",
    "fit = model.fit(train_data, train_labels, epochs=20, batch_size=512, validation_data=(val_data, val_labels))"
   ]
  },
  {
   "cell_type": "code",
   "execution_count": 110,
   "metadata": {},
   "outputs": [
    {
     "data": {
      "image/png": "[encoded data removed]",
      "text/plain": [
       "<Figure size 720x288 with 2 Axes>"
      ]
     },
     "metadata": {
      "needs_background": "light"
     },
     "output_type": "display_data"
    }
   ],
   "source": [
    "fig, (axL, axR) = plt.subplots(ncols=2, figsize=(10,4))\n",
    "plot_history_loss(fit, axL)\n",
    "plot_history_acc(fit, axR)"
   ]
  },
  {
   "cell_type": "code",
   "execution_count": 120,
   "metadata": {},
   "outputs": [],
   "source": [
    "model = keras.Sequential()\n",
    "# model.add(keras.layers.Embedding(vocaburary_size, 16, trainable=False))\n",
    "model.add(keras.layers.Embedding(vocaburary_size, 128))\n",
    "model.add(keras.layers.GlobalAveragePooling1D())\n",
    "# model.add(keras.layers.Dense(128, activation=tf.nn.relu, bias_regularizer=tf.keras.regularizers.l2(0.01), use_bias=True))\n",
    "model.add(keras.layers.Dense(64, activation=tf.nn.relu, bias_regularizer=tf.keras.regularizers.l2(1), use_bias=True))\n",
    "model.add(keras.layers.Dense(1, activation=tf.nn.sigmoid))\n",
    "# model.summary()\n",
    "model.compile(optimizer=\"adam\", loss=\"binary_crossentropy\", metrics=[\"acc\"])\n"
   ]
  },
  {
   "cell_type": "code",
   "execution_count": 121,
   "metadata": {},
   "outputs": [
    {
     "name": "stdout",
     "output_type": "stream",
     "text": [
      "Train on 22500 samples, validate on 2500 samples\n",
      "Epoch 1/20\n",
      "22500/22500 [==============================] - 12s 550us/step - loss: 0.6859 - acc: 0.5876 - val_loss: 0.6661 - val_acc: 0.7448\n",
      "Epoch 2/20\n",
      "22500/22500 [==============================] - 11s 500us/step - loss: 0.6034 - acc: 0.7810 - val_loss: 0.5158 - val_acc: 0.8144\n",
      "Epoch 3/20\n",
      "22500/22500 [==============================] - 11s 496us/step - loss: 0.4152 - acc: 0.8598 - val_loss: 0.3549 - val_acc: 0.8664\n",
      "Epoch 4/20\n",
      "22500/22500 [==============================] - 11s 495us/step - loss: 0.2841 - acc: 0.9014 - val_loss: 0.2988 - val_acc: 0.8748\n",
      "Epoch 5/20\n",
      "22500/22500 [==============================] - 11s 496us/step - loss: 0.2144 - acc: 0.9269 - val_loss: 0.2914 - val_acc: 0.8764\n",
      "Epoch 6/20\n",
      "22500/22500 [==============================] - 11s 498us/step - loss: 0.1683 - acc: 0.9464 - val_loss: 0.2754 - val_acc: 0.8804\n",
      "Epoch 7/20\n",
      "22500/22500 [==============================] - 11s 496us/step - loss: 0.1332 - acc: 0.9604 - val_loss: 0.2726 - val_acc: 0.8868\n",
      "Epoch 8/20\n",
      "22500/22500 [==============================] - 11s 497us/step - loss: 0.1068 - acc: 0.9703 - val_loss: 0.2814 - val_acc: 0.8824\n",
      "Epoch 9/20\n",
      "22500/22500 [==============================] - 11s 494us/step - loss: 0.0877 - acc: 0.9771 - val_loss: 0.2903 - val_acc: 0.8828\n",
      "Epoch 10/20\n",
      "22500/22500 [==============================] - 11s 496us/step - loss: 0.0702 - acc: 0.9833 - val_loss: 0.2957 - val_acc: 0.8888\n",
      "Epoch 11/20\n",
      "22500/22500 [==============================] - 11s 497us/step - loss: 0.0572 - acc: 0.9881 - val_loss: 0.3085 - val_acc: 0.8836\n",
      "Epoch 12/20\n",
      "22500/22500 [==============================] - 11s 498us/step - loss: 0.0469 - acc: 0.9909 - val_loss: 0.3173 - val_acc: 0.8864\n",
      "Epoch 13/20\n",
      "22500/22500 [==============================] - 11s 495us/step - loss: 0.0389 - acc: 0.9931 - val_loss: 0.3287 - val_acc: 0.8848\n",
      "Epoch 14/20\n",
      "22500/22500 [==============================] - 11s 496us/step - loss: 0.0319 - acc: 0.9953 - val_loss: 0.3473 - val_acc: 0.8808\n",
      "Epoch 15/20\n",
      "22500/22500 [==============================] - 11s 496us/step - loss: 0.0263 - acc: 0.9965 - val_loss: 0.3548 - val_acc: 0.8840\n",
      "Epoch 16/20\n",
      "22500/22500 [==============================] - 11s 496us/step - loss: 0.0221 - acc: 0.9972 - val_loss: 0.3762 - val_acc: 0.8772\n",
      "Epoch 17/20\n",
      "22500/22500 [==============================] - 11s 497us/step - loss: 0.0185 - acc: 0.9977 - val_loss: 0.3745 - val_acc: 0.8808\n",
      "Epoch 18/20\n",
      "22500/22500 [==============================] - 11s 496us/step - loss: 0.0153 - acc: 0.9984 - val_loss: 0.3897 - val_acc: 0.8792\n",
      "Epoch 19/20\n",
      "22500/22500 [==============================] - 11s 497us/step - loss: 0.0133 - acc: 0.9985 - val_loss: 0.4066 - val_acc: 0.8764\n",
      "Epoch 20/20\n",
      "22500/22500 [==============================] - 11s 496us/step - loss: 0.0112 - acc: 0.9987 - val_loss: 0.4104 - val_acc: 0.8780\n",
      "Wall time: 3min 44s\n"
     ]
    }
   ],
   "source": [
    "%%time\n",
    "fit = model.fit(train_data, train_labels, epochs=20, batch_size=512, validation_data=(val_data, val_labels))"
   ]
  },
  {
   "cell_type": "code",
   "execution_count": 122,
   "metadata": {},
   "outputs": [
    {
     "data": {
      "image/png": "[encoded data removed]",
      "text/plain": [
       "<Figure size 1080x720 with 1 Axes>"
      ]
     },
     "metadata": {
      "needs_background": "light"
     },
     "output_type": "display_data"
    }
   ],
   "source": [
    "# size_of_sample = 10\n",
    "# rand_samples_to_check=np.random.randint(len(train_data), size=size_of_sample)\n",
    "(x_train, y_train), (x_test, y_test) = imdb.load_data()\n",
    "plt.figure(figsize=(15,10))\n",
    "plt.hist([len(sample) for sample in x_train], 50)\n",
    "plt.xlabel('Length of samples')\n",
    "plt.ylabel('Number of samples')\n",
    "plt.title('Sample lenth distribution')\n",
    "plt.show()"
   ]
  },
  {
   "cell_type": "code",
   "execution_count": null,
   "metadata": {},
   "outputs": [],
   "source": []
  },
  {
   "cell_type": "code",
   "execution_count": null,
   "metadata": {},
   "outputs": [],
   "source": []
  }
 ],
 "metadata": {
  "kernelspec": {
   "display_name": "pyenv_tesseract",
   "language": "python",
   "name": "pyenv_tesseract"
  },
  "language_info": {
   "codemirror_mode": {
    "name": "ipython",
    "version": 3
   },
   "file_extension": ".py",
   "mimetype": "text/x-python",
   "name": "python",
   "nbconvert_exporter": "python",
   "pygments_lexer": "ipython3",
   "version": "3.6.7"
  }
 },
 "nbformat": 4,
 "nbformat_minor": 2
}
