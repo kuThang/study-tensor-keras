{
 "cells": [
  {
   "cell_type": "code",
   "execution_count": 50,
   "metadata": {},
   "outputs": [],
   "source": [
    "import tensorflow as tf\n",
    "mnist = tf.keras.datasets.mnist\n",
    "\n",
    "(x_train, y_train), (x_test, y_test) = mnist.load_data()\n",
    "x_train, x_test = x_train / 255.0, x_test / 255.0"
   ]
  },
  {
   "cell_type": "code",
   "execution_count": 5,
   "metadata": {},
   "outputs": [
    {
     "name": "stdout",
     "output_type": "stream",
     "text": [
      "(60000, 28, 28)\n",
      "(10000, 28, 28)\n"
     ]
    }
   ],
   "source": [
    "from tensorflow.keras import layers\n",
    "from tensorflow.keras.models import Sequential\n",
    "print(x_train.shape)\n",
    "print(x_test.shape)"
   ]
  },
  {
   "cell_type": "code",
   "execution_count": 17,
   "metadata": {},
   "outputs": [],
   "source": [
    "model = tf.keras.models.Sequential([\n",
    "  tf.keras.layers.Flatten(input_shape=(28, 28)),\n",
    "  tf.keras.layers.Dense(512, activation=tf.nn.relu),\n",
    "  tf.keras.layers.Dropout(0.2),\n",
    "  tf.keras.layers.Dense(10, activation=tf.nn.softmax)\n",
    "])"
   ]
  },
  {
   "cell_type": "code",
   "execution_count": 27,
   "metadata": {},
   "outputs": [
    {
     "name": "stdout",
     "output_type": "stream",
     "text": [
      "5\n",
      "(60000,)\n",
      "(60000, 10)\n"
     ]
    }
   ],
   "source": [
    "print(y_train[0])\n",
    "print(y_train.shape)\n",
    "test = tf.keras.utils.to_categorical(y_train, 10)\n",
    "print(test.shape)"
   ]
  },
  {
   "cell_type": "code",
   "execution_count": 28,
   "metadata": {},
   "outputs": [
    {
     "name": "stdout",
     "output_type": "stream",
     "text": [
      "Epoch 1/10\n",
      "60000/60000 [==============================] - 8s 126us/step - loss: 0.0750 - acc: 0.9767\n",
      "Epoch 2/10\n",
      "60000/60000 [==============================] - 8s 140us/step - loss: 0.0561 - acc: 0.9822\n",
      "Epoch 3/10\n",
      "60000/60000 [==============================] - 11s 175us/step - loss: 0.0448 - acc: 0.9858\n",
      "Epoch 4/10\n",
      "60000/60000 [==============================] - 9s 146us/step - loss: 0.0369 - acc: 0.9879\n",
      "Epoch 5/10\n",
      "60000/60000 [==============================] - 12s 207us/step - loss: 0.0326 - acc: 0.9888\n",
      "Epoch 6/10\n",
      "60000/60000 [==============================] - 9s 152us/step - loss: 0.0273 - acc: 0.9912\n",
      "Epoch 7/10\n",
      "60000/60000 [==============================] - 8s 137us/step - loss: 0.0255 - acc: 0.9912\n",
      "Epoch 8/10\n",
      "60000/60000 [==============================] - 9s 156us/step - loss: 0.0218 - acc: 0.9925\n",
      "Epoch 9/10\n",
      "60000/60000 [==============================] - 8s 136us/step - loss: 0.0194 - acc: 0.9936\n",
      "Epoch 10/10\n",
      "60000/60000 [==============================] - 8s 139us/step - loss: 0.0221 - acc: 0.9926\n"
     ]
    }
   ],
   "source": [
    "model.compile(optimizer=tf.train.AdamOptimizer(0.001),\n",
    "    loss='sparse_categorical_crossentropy',\n",
    "    metrics=['accuracy'])\n",
    "fit = model.fit(x_train, y_train, epochs=5)"
   ]
  },
  {
   "cell_type": "code",
   "execution_count": 30,
   "metadata": {},
   "outputs": [
    {
     "name": "stdout",
     "output_type": "stream",
     "text": [
      "Epoch 1/5\n",
      "60000/60000 [==============================] - 17s 277us/step - loss: 0.0207 - acc: 0.9934\n",
      "Epoch 2/5\n",
      "60000/60000 [==============================] - 20s 336us/step - loss: 0.0158 - acc: 0.9946\n",
      "Epoch 3/5\n",
      "60000/60000 [==============================] - 20s 327us/step - loss: 0.0163 - acc: 0.9948\n",
      "Epoch 4/5\n",
      "60000/60000 [==============================] - 18s 292us/step - loss: 0.0157 - acc: 0.9946\n",
      "Epoch 5/5\n",
      "60000/60000 [==============================] - 22s 370us/step - loss: 0.0159 - acc: 0.9947\n"
     ]
    }
   ],
   "source": [
    "y_train_one_hot = tf.keras.utils.to_categorical(y_train, 10)\n",
    "model.compile(optimizer='adam',\n",
    "              loss='categorical_crossentropy',\n",
    "              metrics=['accuracy'])\n",
    "fit = model.fit(x_train, y_train_one_hot, epochs=5)"
   ]
  },
  {
   "cell_type": "code",
   "execution_count": 56,
   "metadata": {},
   "outputs": [
    {
     "name": "stdout",
     "output_type": "stream",
     "text": [
      "(60000, 28, 28, 1)\n",
      "(10000, 28, 28, 1)\n"
     ]
    }
   ],
   "source": [
    "x_train = x_train.reshape(x_train.shape[0], 28, 28, 1)\n",
    "x_test = x_test.reshape(x_test.shape[0], 28, 28, 1)\n",
    "print(x_train.shape)\n",
    "print(x_test.shape)\n",
    "model = tf.keras.models.Sequential()\n",
    "model.add(layers.Conv2D(32, kernel_size=(3,3), activation='relu', input_shape=(28, 28,1)))\n",
    "model.add(layers.Conv2D(64, (3,3), activation='relu'))\n",
    "model.add(layers.Flatten())\n",
    "model.add(layers.Dense(64, activation='relu'))\n",
    "model.add(layers.Dense(10, activation='softmax'))\n"
   ]
  },
  {
   "cell_type": "code",
   "execution_count": 57,
   "metadata": {},
   "outputs": [
    {
     "name": "stdout",
     "output_type": "stream",
     "text": [
      "Epoch 1/5\n",
      "60000/60000 [==============================] - 194s 3ms/step - loss: 0.1162 - acc: 0.9637\n",
      "Epoch 2/5\n",
      "60000/60000 [==============================] - 186s 3ms/step - loss: 0.0388 - acc: 0.9881\n",
      "Epoch 3/5\n",
      "60000/60000 [==============================] - 187s 3ms/step - loss: 0.0239 - acc: 0.9925\n",
      "Epoch 4/5\n",
      "60000/60000 [==============================] - 180s 3ms/step - loss: 0.0149 - acc: 0.9948\n",
      "Epoch 5/5\n",
      "60000/60000 [==============================] - 184s 3ms/step - loss: 0.0104 - acc: 0.9967\n"
     ]
    }
   ],
   "source": [
    "y_train_one_hot = tf.keras.utils.to_categorical(y_train, 10)\n",
    "model.compile(optimizer='adam',\n",
    "              loss='categorical_crossentropy',\n",
    "              metrics=['accuracy'])\n",
    "fit = model.fit(x_train, y_train_one_hot, epochs=5)"
   ]
  },
  {
   "cell_type": "code",
   "execution_count": null,
   "metadata": {},
   "outputs": [],
   "source": []
  }
 ],
 "metadata": {
  "kernelspec": {
   "display_name": "pyenv_tesseract",
   "language": "python",
   "name": "pyenv_tesseract"
  },
  "language_info": {
   "codemirror_mode": {
    "name": "ipython",
    "version": 3
   },
   "file_extension": ".py",
   "mimetype": "text/x-python",
   "name": "python",
   "nbconvert_exporter": "python",
   "pygments_lexer": "ipython3",
   "version": "3.6.7"
  }
 },
 "nbformat": 4,
 "nbformat_minor": 2
}
